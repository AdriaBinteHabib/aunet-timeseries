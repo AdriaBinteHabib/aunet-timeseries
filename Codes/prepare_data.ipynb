{
 "cells": [
  {
   "cell_type": "code",
   "execution_count": 1,
   "metadata": {
    "colab": {
     "base_uri": "https://localhost:8080/"
    },
    "executionInfo": {
     "elapsed": 27725,
     "status": "ok",
     "timestamp": 1748710217575,
     "user": {
      "displayName": "Arif Shakil",
      "userId": "16141773464943262306"
     },
     "user_tz": -360
    },
    "id": "5uU5IvT1dXwQ",
    "outputId": "eb0af438-37d9-4bdd-af5d-deeec2623901"
   },
   "outputs": [
    {
     "name": "stdout",
     "output_type": "stream",
     "text": [
      "Mounted at /content/MyDrive\n"
     ]
    }
   ],
   "source": [
    "from google.colab import drive\n",
    "drive.mount('/content/MyDrive')"
   ]
  },
  {
   "cell_type": "code",
   "execution_count": 2,
   "metadata": {
    "executionInfo": {
     "elapsed": 4553,
     "status": "ok",
     "timestamp": 1748710227391,
     "user": {
      "displayName": "Arif Shakil",
      "userId": "16141773464943262306"
     },
     "user_tz": -360
    },
    "id": "q3RYMJlXddwT"
   },
   "outputs": [],
   "source": [
    "import numpy as np\n",
    "import pandas as pd\n",
    "from sklearn.preprocessing import StandardScaler\n",
    "from sklearn.model_selection import train_test_split\n",
    "\n",
    "\n",
    "### 1. DATA PREPROCESSING ###\n",
    "file_path = \"/content/MyDrive/MyDrive/MScThesisAttenNEATS/data_daily.csv\"\n",
    "data = pd.read_csv(file_path)\n",
    "\n",
    "# Convert and clean target\n",
    "data[\"Avg Air Temp (F)\"] = pd.to_numeric(data[\"Avg Air Temp (F)\"], errors=\"coerce\")\n",
    "data = data.dropna(subset=[\"Avg Air Temp (F)\"]).reset_index(drop=True)\n",
    "\n",
    "# Date features\n",
    "data[\"Date\"] = pd.to_datetime(data[\"Date\"], format=\"%m/%d/%Y\")\n",
    "data[\"year\"]       = data[\"Date\"].dt.year\n",
    "data[\"month\"]      = data[\"Date\"].dt.month\n",
    "data[\"day\"]        = data[\"Date\"].dt.day\n",
    "data[\"dayofweek\"]  = data[\"Date\"].dt.dayofweek\n",
    "data[\"dayofyear\"]  = data[\"Date\"].dt.dayofyear\n",
    "data[\"weekofyear\"] = data[\"Date\"].dt.isocalendar().week\n",
    "\n",
    "feature_cols = [\"lag1\", \"lag2\", \"rolling_mean_3\", \"rolling_mean_7\",\n",
    "                \"year\", \"month\", \"day\", \"dayofweek\", \"dayofyear\", \"weekofyear\"]\n",
    "\n",
    "# Lag and rolling\n",
    "data[\"lag1\"] = data[\"Avg Air Temp (F)\"].shift(1)\n",
    "data[\"lag2\"] = data[\"Avg Air Temp (F)\"].shift(2)\n",
    "data[\"rolling_mean_3\"] = data[\"Avg Air Temp (F)\"].rolling(3).mean()\n",
    "data[\"rolling_mean_7\"] = data[\"Avg Air Temp (F)\"].rolling(7).mean()\n",
    "data = data.dropna().reset_index(drop=True)\n",
    "\n",
    "# Normalize\n",
    "temp_scaler = StandardScaler()\n",
    "data[\"Avg Air Temp (F)\"] = temp_scaler.fit_transform(data[[\"Avg Air Temp (F)\"]])\n",
    "feature_scaler = StandardScaler()\n",
    "data[feature_cols] = feature_scaler.fit_transform(data[feature_cols])\n",
    "\n",
    "# Train-test split\n",
    "X = data[feature_cols].values\n",
    "y = data[\"Avg Air Temp (F)\"].values\n",
    "X_train, X_test, y_train, y_test = train_test_split(X, y, test_size=0.2, random_state=42)"
   ]
  }
 ],
 "metadata": {
  "colab": {
   "authorship_tag": "ABX9TyPQAXAf5ngFwHsEaVjdwN64",
   "provenance": []
  },
  "kernelspec": {
   "display_name": "Python 3",
   "name": "python3"
  },
  "language_info": {
   "name": "python"
  }
 },
 "nbformat": 4,
 "nbformat_minor": 0
}
